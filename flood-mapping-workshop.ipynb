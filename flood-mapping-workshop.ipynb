{
 "cells": [
  {
   "cell_type": "markdown",
   "metadata": {},
   "source": [
    "# Part 1: Introduction to Python for Earth Engine"
   ]
  },
  {
   "cell_type": "markdown",
   "metadata": {},
   "source": [
    "## 1. Why Python for Earth Engine?\n",
    "\n",
    "While Google Earth Engine's Code Editor (JavaScript) is fantastic for rapid prototyping and visualization, the Python API unlocks significant capabilities for advanced users:\n",
    "\n",
    "*   **Integration:** Seamlessly combine GEE with the vast Python data science ecosystem (NumPy, SciPy, Pandas, Scikit-learn, TensorFlow, PyTorch, Matplotlib, Seaborn). Perform complex statistical analysis, machine learning, and deep learning outside the GEE environment.\n",
    "*   **Automation:** Build scripts for repetitive tasks, batch processing, and generating reports.\n",
    "*   **Software Development:** Create standalone applications, web services, or custom tools.\n",
    "*   **Reproducibility:** Manage dependencies and ensure code runs consistently across different environments.\n",
    "*   **`geemap`:** A powerful Python package that simplifies Earth Engine data visualization and analysis in Jupyter environments, offering an interactive mapping experience similar to the Code Editor."
   ]
  },
  {
   "cell_type": "markdown",
   "metadata": {},
   "source": [
    "## 2. Python Fundamentals: Bridging the Language Gap\n",
    "\n",
    "Let's do a quick crash course on fundamental Python concepts, focusing on what's most relevant for GEE users coming from JavaScript. You'll notice many similarities!\n",
    "\n",
    "### 2.1. Basic Syntax & Comments\n",
    "\n",
    "Python uses indentation for code blocks (no curly braces `{}`). Comments start with `#`."
   ]
  },
  {
   "cell_type": "code",
   "execution_count": null,
   "metadata": {},
   "outputs": [],
   "source": [
    "# This is a single-line comment in Python\n",
    "\n",
    "# JavaScript equivalent: // This is a single-line comment\n",
    "\n",
    "\"\"\"\n",
    "This is a multi-line string in Python,\n",
    "often used for multi-line comments or docstrings.\n",
    "\"\"\"\n",
    "# JavaScript equivalent: /* This is a multi-line comment */\n",
    "\n",
    "# Basic print statement\n",
    "print(\"Hello, GEE Python!\")"
   ]
  },
  {
   "cell_type": "markdown",
   "metadata": {},
   "source": [
    "### 2.2. Variables & Data Types\n",
    "\n",
    "No `var`, `let`, or `const` keyword needed. Python automatically infers types."
   ]
  },
  {
   "cell_type": "code",
   "execution_count": null,
   "metadata": {},
   "outputs": [],
   "source": [
    "# Numbers (integers and floats)\n",
    "my_integer = 10\n",
    "my_float = 3.14159\n",
    "print(f\"Integer: {my_integer}, Type: {type(my_integer)}\")\n",
    "print(f\"Float: {my_float}, Type: {type(my_float)}\")\n",
    "\n",
    "# Strings (single or double quotes)\n",
    "my_string = \"Hello, Earth Engine\"\n",
    "another_string = 'Python API'\n",
    "print(f\"String 1: {my_string}, Type: {type(my_string)}\")\n",
    "print(f\"String 2: {another_string}, Type: {type(another_string)}\")\n",
    "\n",
    "# Booleans\n",
    "is_true = True\n",
    "is_false = False\n",
    "print(f\"Boolean 1: {is_true}, Type: {type(is_true)}\")\n",
    "\n",
    "# JavaScript equivalents:\n",
    "# var myInteger = 10;\n",
    "# var myFloat = 3.14159;\n",
    "# var myString = \"Hello, Earth Engine\";\n",
    "# var isTrue = true;"
   ]
  },
  {
   "cell_type": "markdown",
   "metadata": {},
   "source": [
    "### 2.3. Lists (Arrays in JavaScript)\n",
    "\n",
    "Python lists are ordered, mutable collections."
   ]
  },
  {
   "cell_type": "code",
   "execution_count": null,
   "metadata": {},
   "outputs": [],
   "source": []
  },
  {
   "cell_type": "code",
   "execution_count": null,
   "metadata": {},
   "outputs": [],
   "source": [
    "# Creating a list\n",
    "my_list = [10, 20, 30, 40, 50]\n",
    "print(f\"Original list: {my_list}\")\n",
    "\n",
    "# Accessing elements (0-indexed, same as JS)\n",
    "print(f\"First element: {my_list[0]}\")\n",
    "print(f\"Last element: {my_list[-1]}\") # Negative indexing gets from end\n",
    "\n",
    "# Slicing (very common and powerful!)\n",
    "print(f\"Elements from index 1 to 3 (exclusive): {my_list[1:4]}\")\n",
    "\n",
    "# Modifying a list\n",
    "my_list.append(60) # Add an element to the end\n",
    "print(f\"List after append: {my_list}\")\n",
    "\n",
    "# JavaScript equivalents:\n",
    "# var myList = [10, 20, 30, 40, 50];\n",
    "# console.log(myList[0]);\n",
    "# myList.push(60);"
   ]
  },
  {
   "cell_type": "markdown",
   "metadata": {},
   "source": [
    "### 2.4. Dictionaries (Objects in JavaScript)\n",
    "\n",
    "Python dictionaries are unordered collections of key-value pairs."
   ]
  },
  {
   "cell_type": "code",
   "execution_count": null,
   "metadata": {},
   "outputs": [],
   "source": [
    "# Creating a dictionary\n",
    "my_dict = {\n",
    "    'name': 'Sarah',\n",
    "    'age': 30,\n",
    "    'city': 'New York'\n",
    "}\n",
    "print(f\"Original dictionary: {my_dict}\")\n",
    "\n",
    "# Accessing values\n",
    "print(f\"Name: {my_dict['name']}\")\n",
    "\n",
    "# Adding or modifying entries\n",
    "my_dict['occupation'] = 'Engineer'\n",
    "my_dict['age'] = 31\n",
    "print(f\"Modified dictionary: {my_dict}\")\n",
    "\n",
    "# JavaScript equivalents:\n",
    "# var myObject = {\n",
    "#   name: 'Sarah',\n",
    "#   age: 30,\n",
    "#   city: 'New York'\n",
    "# };\n",
    "# console.log(myObject.name); // or myObject['name'];\n",
    "# myObject.occupation = 'Engineer';"
   ]
  },
  {
   "cell_type": "markdown",
   "metadata": {},
   "source": [
    "### 2.5. Functions\n",
    "\n",
    "Define functions using the `def` keyword."
   ]
  },
  {
   "cell_type": "code",
   "execution_count": null,
   "metadata": {},
   "outputs": [],
   "source": [
    "def greet(name):\n",
    "  \"\"\"This function greets the person passed in as a parameter.\"\"\"\n",
    "  return f\"Hello, {name}!\"\n",
    "\n",
    "message = greet(\"GEE User\")\n",
    "print(message)\n",
    "\n",
    "# Functions can also take multiple arguments\n",
    "def add_numbers(a, b):\n",
    "    return a + b\n",
    "\n",
    "result = add_numbers(5, 7)\n",
    "print(f\"Sum: {result}\")\n",
    "\n",
    "# JavaScript equivalents:\n",
    "# function greet(name) {\n",
    "#   return \"Hello, \" + name + \"!\";\n",
    "# }\n",
    "# var message = greet(\"GEE User\");"
   ]
  },
  {
   "cell_type": "markdown",
   "metadata": {},
   "source": [
    "## 3. Connecting GEE with Python via `geemap`\n",
    "\n",
    "Now that we have a basic understanding of Python, let's connect to Google Earth Engine. We'll use the `earthengine-api` and the fantastic `geemap` library.\n",
    "\n",
    "### 3.1. Installation (for Google Colab)\n",
    "\n",
    "If you're in Google Colab, executing the following cell will install the necessary packages. If you're in a local Jupyter environment, you might use `pip install earthengine-api geemap` in your terminal."
   ]
  },
  {
   "cell_type": "code",
   "execution_count": null,
   "metadata": {},
   "outputs": [],
   "source": [
    "# Install the earthengine-api and geemap libraries\n",
    "# This step is commented out once installed, run only if needed.\n",
    "# %pip install earthengine-api geemap"
   ]
  },
  {
   "cell_type": "markdown",
   "metadata": {},
   "source": [
    "### 3.2. Import Libraries\n",
    "\n",
    "Always import necessary libraries at the top of your script or notebook."
   ]
  },
  {
   "cell_type": "code",
   "execution_count": 1,
   "metadata": {},
   "outputs": [
    {
     "name": "stdout",
     "output_type": "stream",
     "text": [
      "Libraries imported successfully!\n"
     ]
    }
   ],
   "source": [
    "import ee        # The core Earth Engine Python API\n",
    "import geemap    # The interactive mapping library for GEE and Python\n",
    "\n",
    "print(\"Libraries imported successfully!\")"
   ]
  },
  {
   "cell_type": "markdown",
   "metadata": {},
   "source": [
    "### 3.3. Authentication and Initialization\n",
    "\n",
    "This is the bridge to the GEE servers.\n",
    "\n",
    "*   `ee.Authenticate()`: Guides you through a one-time authentication process with your Google account (similar to the first time you might have used the Code Editor).\n",
    "*   `ee.Initialize()`: Initializes the Earth Engine API, making GEE objects and functions available. Think of this as `ee.Initialize()` in JavaScript, but *after* you've confirmed your credentials."
   ]
  },
  {
   "cell_type": "code",
   "execution_count": 2,
   "metadata": {},
   "outputs": [
    {
     "data": {
      "text/html": [
       "\n",
       "            <style>\n",
       "                .geemap-dark {\n",
       "                    --jp-widgets-color: white;\n",
       "                    --jp-widgets-label-color: white;\n",
       "                    --jp-ui-font-color1: white;\n",
       "                    --jp-layout-color2: #454545;\n",
       "                    background-color: #383838;\n",
       "                }\n",
       "\n",
       "                .geemap-dark .jupyter-button {\n",
       "                    --jp-layout-color3: #383838;\n",
       "                }\n",
       "\n",
       "                .geemap-colab {\n",
       "                    background-color: var(--colab-primary-surface-color, white);\n",
       "                }\n",
       "\n",
       "                .geemap-colab .jupyter-button {\n",
       "                    --jp-layout-color3: var(--colab-primary-surface-color, white);\n",
       "                }\n",
       "            </style>\n",
       "            "
      ],
      "text/plain": [
       "<IPython.core.display.HTML object>"
      ]
     },
     "metadata": {},
     "output_type": "display_data"
    },
    {
     "name": "stdout",
     "output_type": "stream",
     "text": [
      "Earth Engine authenticated and initialized successfully!\n",
      "\n",
      "Ready to access GEE data!\n"
     ]
    }
   ],
   "source": [
    "# Authenticate the Earth Engine API\n",
    "# The first time you run this, it will open a browser window for authentication.\n",
    "# Follow the instructions: log in, allow access, copy the authorization code,\n",
    "# and paste it back into the input box in this notebook cell.\n",
    "try:\n",
    "    ee.Authenticate()\n",
    "except Exception as e:\n",
    "    print(f\"Authentication failed: {e}. Please follow the instructions to authenticate.\")\n",
    "# Initialize the Earth Engine API\n",
    "# This makes GEE features available. Similar to how the Code Editor is always initialized after login.\n",
    "ee.Initialize()\n",
    "\n",
    "\n",
    "print(\"Earth Engine authenticated and initialized successfully!\")\n",
    "print(\"\\nReady to access GEE data!\")"
   ]
  },
  {
   "cell_type": "markdown",
   "metadata": {},
   "source": [
    "## 4. Translating GEE JavaScript Concepts to Python\n",
    "\n",
    "Let's see how common GEE operations translate. You'll find the structure is very similar, often just replacing `.` with `_` or changing casing.\n",
    "\n",
    "### 4.1. Creating an Interactive Map (`Map` vs `geemap.Map()`)\n",
    "\n",
    "In JavaScript, `Map` is your global interactive map object. In Python with `geemap`, you create an explicit `Map` object."
   ]
  },
  {
   "cell_type": "code",
   "execution_count": 3,
   "metadata": {},
   "outputs": [
    {
     "data": {
      "text/html": [
       "\n",
       "            <style>\n",
       "                .geemap-dark {\n",
       "                    --jp-widgets-color: white;\n",
       "                    --jp-widgets-label-color: white;\n",
       "                    --jp-ui-font-color1: white;\n",
       "                    --jp-layout-color2: #454545;\n",
       "                    background-color: #383838;\n",
       "                }\n",
       "\n",
       "                .geemap-dark .jupyter-button {\n",
       "                    --jp-layout-color3: #383838;\n",
       "                }\n",
       "\n",
       "                .geemap-colab {\n",
       "                    background-color: var(--colab-primary-surface-color, white);\n",
       "                }\n",
       "\n",
       "                .geemap-colab .jupyter-button {\n",
       "                    --jp-layout-color3: var(--colab-primary-surface-color, white);\n",
       "                }\n",
       "            </style>\n",
       "            "
      ],
      "text/plain": [
       "<IPython.core.display.HTML object>"
      ]
     },
     "metadata": {},
     "output_type": "display_data"
    },
    {
     "data": {
      "application/vnd.jupyter.widget-view+json": {
       "model_id": "94762ee863fc4d07b9ff412452cee5de",
       "version_major": 2,
       "version_minor": 0
      },
      "text/plain": [
       "Map(center=[40.055489, -113.41842], controls=(WidgetControl(options=['position', 'transparent_bg'], widget=Sea…"
      ]
     },
     "execution_count": 3,
     "metadata": {},
     "output_type": "execute_result"
    }
   ],
   "source": [
    "# JavaScript:\n",
    "# Map.setCenter(-113.41842, 40.055489, 6);\n",
    "\n",
    "# Python with geemap:\n",
    "# geemap.Map() takes center in [latitude, longitude] order\n",
    "map_obj = geemap.Map(center=[40.055489, -113.41842], zoom=6)\n",
    "\n",
    "# To display the map in Jupyter, simply call the map object at the end of the cell\n",
    "map_obj"
   ]
  },
  {
   "cell_type": "markdown",
   "metadata": {},
   "source": [
    "### 4.2. Loading Image Collections & Filtering (`ee.ImageCollection()`, `.filter()`)\n",
    "\n",
    "The fundamental way to access data is very similar."
   ]
  },
  {
   "cell_type": "code",
   "execution_count": null,
   "metadata": {},
   "outputs": [],
   "source": [
    "# JavaScript:\n",
    "# var s2_collection = ee.ImageCollection('COPERNICUS/S2_SR_HARMONIZED');\n",
    "# var image = s2_collection\n",
    "#   .filterDate('2023-01-01', '2023-01-31')\n",
    "#   .filterBounds(ee.Geometry.Point(-122.4194, 37.7749))\n",
    "#   .first();\n",
    "\n",
    "# Python:\n",
    "# Note: Python's method chaining works the same way\n",
    "s2_collection = ee.ImageCollection('COPERNICUS/S2_SR_HARMONIZED')\n",
    "\n",
    "# Define a point (ee.Geometry.Point takes [longitude, latitude])\n",
    "sf_point = ee.Geometry.Point(-122.4194, 37.7749)\n",
    "\n",
    "image_s2 = s2_collection \\\n",
    "    .filterDate('2023-01-01', '2023-01-31') \\\n",
    "    .filterBounds(sf_point) \\\n",
    "    .sort('CLOUD_COVER') \\\n",
    "    .first() # Get the least cloudy image\n",
    "\n",
    "print(\"Sentinel-2 image loaded.\")\n",
    "\n",
    "# Check if an image was found (important!)\n",
    "if image_s2:\n",
    "    print(f\"Image ID: {image_s2.id().getInfo()}\")\n",
    "else:\n",
    "    print(\"No Sentinel-2 image found for the specified criteria.\")"
   ]
  },
  {
   "cell_type": "markdown",
   "metadata": {},
   "source": [
    "### 4.3. Visualizing Layers (`Map.addLayer()`)\n",
    "\n",
    "The `Map.addLayer()` function is almost identical, but `geemap` makes it much more convenient in Python."
   ]
  },
  {
   "cell_type": "code",
   "execution_count": null,
   "metadata": {},
   "outputs": [],
   "source": [
    "# JavaScript:\n",
    "# var visParams = {bands: ['B4', 'B3', 'B2'], min: 0, max: 2000};\n",
    "# Map.addLayer(image, visParams, 'True Color');\n",
    "\n",
    "# Python:\n",
    "vis_params_s2 = {\n",
    "    'bands': ['B4', 'B3', 'B2'], # Red, Green, Blue bands for True Color\n",
    "    'min': 0,\n",
    "    'max': 2000, # Max value for Sentinel-2 SR\n",
    "    'gamma': 1.2 # Adjust brightness\n",
    "}\n",
    "\n",
    "# Create a new map to show this example clearly\n",
    "map_s2_viz = geemap.Map(center=[37.7749, -122.4194], zoom=10) # Centered on San Francisco\n",
    "\n",
    "# Verify image_s2 is not None before adding\n",
    "if image_s2:\n",
    "    map_s2_viz.addLayer(image_s2, vis_params_s2, 'Sentinel-2 True Color (SF)')\n",
    "    map_s2_viz.addLayer(sf_point, {'color': 'red'}, 'San Francisco Point')\n",
    "else:\n",
    "    print(\"Could not add layer because image_s2 was not found.\")\n",
    "\n",
    "map_s2_viz"
   ]
  },
  {
   "cell_type": "markdown",
   "metadata": {},
   "source": [
    "### 4.4. Common Operations: `select()`, `normalizedDifference()`, `clip()`\n",
    "\n",
    "These operations work very similarly.\n",
    "\n",
    "#### Selection of Bands (`.select()`)\n"
   ]
  },
  {
   "cell_type": "code",
   "execution_count": null,
   "metadata": {},
   "outputs": [],
   "source": [
    "# JavaScript:\n",
    "# var redBand = image.select('B4');\n",
    "\n",
    "# Python:\n",
    "if image_s2:\n",
    "    red_band = image_s2.select('B4')\n",
    "    print(f\"Selected Red band (Python object type): {type(red_band)}\")\n",
    "else:\n",
    "    print(\"No image to select band from.\")"
   ]
  },
  {
   "cell_type": "markdown",
   "metadata": {},
   "source": [
    "#### Normalized Difference (`.normalizedDifference()`)\n"
   ]
  },
  {
   "cell_type": "code",
   "execution_count": null,
   "metadata": {},
   "outputs": [],
   "source": [
    "# JavaScript:\n",
    "# var ndvi = image.normalizedDifference(['B8', 'B4']);\n",
    "\n",
    "# Python:\n",
    "if image_s2:\n",
    "    # For Sentinel-2 SR, NIR is B8, Red is B4\n",
    "    ndvi_s2 = image_s2.normalizedDifference(['B8', 'B4']).rename('NDVI_S2')\n",
    "    print(f\"Calculated NDVI (Python object type): {type(ndvi_s2)}\")\n",
    "\n",
    "    # Visualize NDVI (optional for display)\n",
    "    ndvi_vis = {\n",
    "        'min': -0.1,\n",
    "        'max': 0.7,\n",
    "        'palette': ['red', 'orange', 'yellow', 'green', 'darkgreen']\n",
    "    }\n",
    "    map_ndvi = geemap.Map(center=[37.7749, -122.4194], zoom=10)\n",
    "    map_ndvi.addLayer(image_s2, vis_params_s2, 'S2 True Color') # Original for context\n",
    "    map_ndvi.addLayer(ndvi_s2, ndvi_vis, 'Sentinel-2 NDVI')\n",
    "    map_ndvi.add_colorbar(ndvi_vis, label='NDVI', orientation='vertical')\n",
    "    map_ndvi\n",
    "else:\n",
    "    print(\"No image to calculate NDVI from.\")"
   ]
  },
  {
   "cell_type": "markdown",
   "metadata": {},
   "source": [
    "#### Clipping (`.clip()`)"
   ]
  },
  {
   "cell_type": "code",
   "execution_count": null,
   "metadata": {},
   "outputs": [],
   "source": [
    "# JavaScript:\n",
    "# var clippedImage = image.clip(ee.Geometry.Rectangle(-122.5, 37.7, -122.3, 37.8));\n",
    "\n",
    "# Python:\n",
    "if image_s2:\n",
    "    # Define a clipping rectangle [min_lon, min_lat, max_lon, max_lat]\n",
    "    bounding_box = ee.Geometry.Rectangle([-122.5, 37.7, -122.3, 37.8])\n",
    "    clipped_s2_image = image_s2.clip(bounding_box)\n",
    "\n",
    "    map_clipped = geemap.Map(center=[37.75, -122.4], zoom=11)\n",
    "    map_clipped.addLayer(clipped_s2_image, vis_params_s2, 'Clipped Sentinel-2 Image')\n",
    "    map_clipped.addLayer(bounding_box, {'color': 'blue', 'fillColor': '00000000'}, 'Clipping Box')\n",
    "    map_clipped\n",
    "else:\n",
    "    print(\"No image to clip.\")"
   ]
  },
  {
   "cell_type": "markdown",
   "metadata": {},
   "source": [
    "### 4.5. Mapping Over Collections (`.map()`)\n",
    "\n",
    "The `.map()` function works similarly, but remember standard Python functions behave differently than GEE server-side functions. You need to define a GEE server-side function to pass to `.map()`."
   ]
  },
  {
   "cell_type": "code",
   "execution_count": null,
   "metadata": {},
   "outputs": [],
   "source": [
    "# JavaScript:\n",
    "# var collection = ee.ImageCollection('LANDSAT/LC08/C02/T1_TOA')\n",
    "#   .filterDate('2020-01-01', '2020-12-31');\n",
    "#\n",
    "# var addNDVI = function(image) {\n",
    "#   return image.addBands(image.normalizedDifference(['B5', 'B4']).rename('NDVI'));\n",
    "# };\n",
    "#\n",
    "# var collectionWithNDVI = collection.map(addNDVI);\n",
    "\n",
    "# Python:\n",
    "# Define a GEE server-side function (which takes an ee.Image as input)\n",
    "def add_landsat_ndvi(image):\n",
    "    # For Landsat 8, NIR is B5, Red is B4\n",
    "    ndvi = image.normalizedDifference(['B5', 'B4']).rename('NDVI')\n",
    "    return image.addBands(ndvi)\n",
    "\n",
    "landsat_collection_ndvi = ee.ImageCollection('LANDSAT/LC08/C02/T1_TOA') \\\n",
    "    .filterDate('2020-01-01', '2020-12-31') \\\n",
    "    .filterBounds(sf_point) \\\n",
    "    .map(add_landsat_ndvi)\n",
    "\n",
    "# Get the first image from the new collection and check its bands\n",
    "first_image_with_bands = landsat_collection_ndvi.first()\n",
    "\n",
    "if first_image_with_bands:\n",
    "    print(\"\\nBands of the first image in the collection (should include NDVI):\")\n",
    "    print(first_image_with_bands.bandNames().getInfo())\n",
    "    # You can now access the 'NDVI' band from this mapped collection\n",
    "else:\n",
    "    print(\"No images found in the Landsat collection after filtering and mapping.\")"
   ]
  },
  {
   "cell_type": "markdown",
   "metadata": {},
   "source": [
    "## 6. Next Steps & Resources\n",
    "\n",
    "Congratulations! You've taken your first steps into using Google Earth Engine with Python. This is just the beginning.\n",
    "\n",
    "**Key Differences to Remember:**\n",
    "*   **Initialization:** Explicit `ee.Initialize()` after `ee.Authenticate()`.\n",
    "*   **Map Object:** `geemap.Map()` creates an interactive map object you assign to a variable, then call that variable to display.\n",
    "*   **Server-side vs. Client-side:** Most GEE operations (e.g., `filter`, `map`, `select`) are server-side and return GEE objects (`ee.Image`, `ee.ImageCollection`). To get information *out* of GEE and into Python (e.g., to print band names or statistics), you'll often need `.getInfo()` or `.evaluate()`.\n",
    "*   **Function Definitions:** When using `.map()`, ensure your function operates on `ee.Image` objects and returns `ee.Image` objects (or `ee.Feature`, etc.), and *not* Python natives.\n",
    "\n",
    "**Where to Go Next:**\n",
    "*   **Google Earth Engine Python API Reference:** Dive deeper into specific functions and classes.\n",
    "    *   [https://developers.google.com/earth-engine/apidocs/python/](https://developers.google.com/earth-engine/apidocs/python/)\n",
    "*   **`geemap` Documentation and Examples:** Explore the vast functionalities offered by `geemap`.\n",
    "    *   [https://geemap.org/](https://geemap.org/)\n",
    "    *   [https://geemap.org/notebooks/](https://geemap.org/notebooks/) (Excellent collection of examples!)\n",
    "*   **Official Earth Engine Guides (for Python):** Learn more about common workflows.\n",
    "    *   [https://developers.google.com/earth-engine/guides/python_install](https://developers.google.com/earth-engine/guides/python_install) (and related topics)\n",
    "*   **Awesome GEE Community Tutorials:** Search for specific problems you want to solve.\n",
    "    *   (Many independent developers share excellent notebooks on GitHub or personal blogs.)\n",
    "\n",
    "The power of combining GEE's data catalog and cloud computing with Python's rich data science ecosystem is immense. Happy coding!"
   ]
  },
  {
   "cell_type": "markdown",
   "metadata": {},
   "source": [
    "---"
   ]
  },
  {
   "cell_type": "markdown",
   "metadata": {},
   "source": [
    "# Part 2: Large-Area Flood Inundation Mapping with Sentinel-1\n",
    "\n",
    "**Case Study:** Pakistan Floods, August 2022\n",
    "\n",
    "This notebook applies the concepts from Part 1 to a real-world disaster response scenario. We will map the extent of the devastating 2022 floods in Pakistan's Sindh province using Sentinel-1 SAR data. We will explore two common methods:\n",
    "\n",
    "1.  **Simple Change Detection:** A straightforward method comparing post-flood imagery to a single pre-flood image or a simple threshold.\n",
    "2.  **Z-Score Time Series Analysis:** A more robust statistical approach that compares the post-flood image to a historical baseline, accounting for normal variations.\n",
    "\n",
    "**Objective:** To generate a reliable flood inundation map and understand the strengths and weaknesses of different remote sensing techniques."
   ]
  },
  {
   "cell_type": "markdown",
   "metadata": {},
   "source": [
    "## 1. Setup and Initialization\n",
    "\n",
    "First, we need to set up our environment by installing and importing the necessary libraries and authenticating with Earth Engine. This is the same process as in Part 1."
   ]
  },
  {
   "cell_type": "code",
   "execution_count": 1,
   "metadata": {},
   "outputs": [
    {
     "name": "stdout",
     "output_type": "stream",
     "text": [
      "GEE Authenticated and Initialized successfully!\n"
     ]
    }
   ],
   "source": [
    "# If running for the first time in a new session, install the libraries\n",
    "#%pip install earthengine-api geemap\n",
    "\n",
    "# Import libraries\n",
    "import ee\n",
    "import geemap\n",
    "\n",
    "# Authenticate and Initialize the Earth Engine API\n",
    "try:\n",
    "    ee.Authenticate()\n",
    "    ee.Initialize()\n",
    "    print('GEE Authenticated and Initialized successfully!')\n",
    "except Exception as e:\n",
    "    print(f'Authentication failed: {e}')"
   ]
  },
  {
   "cell_type": "markdown",
   "metadata": {},
   "source": [
    "## 2. Defining Parameters\n",
    "\n",
    "To begin our analysis, we must define three key parameters:\n",
    "\n",
    "*   **Area of Interest (AOI):** We will focus on the Sindh province of Pakistan, which was severely affected.\n",
    "*   **Time Period:** We need to define the date ranges for our 'before' (pre-flood/baseline) and 'after' (flood) periods.\n",
    "*   **Sentinel-1 Parameters:** We will specifically select the 'VV' polarization, which is highly sensitive to surface water."
   ]
  },
  {
   "cell_type": "code",
   "execution_count": 3,
   "metadata": {},
   "outputs": [
    {
     "data": {
      "text/html": [
       "\n",
       "            <style>\n",
       "                .geemap-dark {\n",
       "                    --jp-widgets-color: white;\n",
       "                    --jp-widgets-label-color: white;\n",
       "                    --jp-ui-font-color1: white;\n",
       "                    --jp-layout-color2: #454545;\n",
       "                    background-color: #383838;\n",
       "                }\n",
       "\n",
       "                .geemap-dark .jupyter-button {\n",
       "                    --jp-layout-color3: #383838;\n",
       "                }\n",
       "\n",
       "                .geemap-colab {\n",
       "                    background-color: var(--colab-primary-surface-color, white);\n",
       "                }\n",
       "\n",
       "                .geemap-colab .jupyter-button {\n",
       "                    --jp-layout-color3: var(--colab-primary-surface-color, white);\n",
       "                }\n",
       "            </style>\n",
       "            "
      ],
      "text/plain": [
       "<IPython.core.display.HTML object>"
      ]
     },
     "metadata": {},
     "output_type": "display_data"
    },
    {
     "data": {
      "application/vnd.jupyter.widget-view+json": {
       "model_id": "6c73844fa5984a9b883473c4a91db28a",
       "version_major": 2,
       "version_minor": 0
      },
      "text/plain": [
       "Map(center=[26.07950850843424, 68.81799792913621], controls=(WidgetControl(options=['position', 'transparent_b…"
      ]
     },
     "execution_count": 3,
     "metadata": {},
     "output_type": "execute_result"
    }
   ],
   "source": [
    "# Define the Area of Interest (AOI) for Sindh province, Pakistan\n",
    "aoi = ee.FeatureCollection(\"FAO/GAUL/2015/level1\")\\\n",
    "        .filter(ee.Filter.eq('ADM0_NAME', 'Pakistan'))\\\n",
    "        .filter(ee.Filter.eq('ADM1_NAME', 'Sindh'))\\\n",
    "        .geometry()\n",
    "\n",
    "# Define the time period for the analysis\n",
    "# The flood peaked in late August 2022\n",
    "flood_date_start = '2022-08-20'\n",
    "flood_date_end = '2022-09-10'\n",
    "\n",
    "# Define the baseline period (pre-flood)\n",
    "baseline_date_start = '2022-01-01'\n",
    "baseline_date_end = '2022-07-31'\n",
    "\n",
    "# Sentinel-1 Image Collection\n",
    "S1_COLLECTION = 'COPERNICUS/S1_GRD'\n",
    "POLARIZATION = 'VV' # We will focus on the VV polarization\n",
    "\n",
    "# Create an interactive map centered on the AOI\n",
    "Map = geemap.Map()\n",
    "Map.centerObject(aoi, 7)\n",
    "Map.addLayer(aoi, {'color': 'yellow', 'fillColor': '00000000'}, 'AOI: Sindh Province')\n",
    "\n",
    "Map"
   ]
  },
  {
   "cell_type": "markdown",
   "metadata": {},
   "source": [
    "## 3. Flood Mapping - Approach 1: Simple Thresholding\n",
    "\n",
    "This is the most direct method. We take an image from during the flood and classify pixels as 'water' if their backscatter value is below a certain threshold. Smooth water surfaces reflect the radar signal away, resulting in very low backscatter (dark pixels).\n",
    "\n",
    "**Limitation:** This method can be prone to errors. A single threshold may not work well across diverse landscapes (e.g., urban vs. rural) and can misclassify radar shadows or naturally smooth, dry surfaces as water."
   ]
  },
  {
   "cell_type": "code",
   "execution_count": 4,
   "metadata": {},
   "outputs": [
    {
     "data": {
      "text/html": [
       "\n",
       "            <style>\n",
       "                .geemap-dark {\n",
       "                    --jp-widgets-color: white;\n",
       "                    --jp-widgets-label-color: white;\n",
       "                    --jp-ui-font-color1: white;\n",
       "                    --jp-layout-color2: #454545;\n",
       "                    background-color: #383838;\n",
       "                }\n",
       "\n",
       "                .geemap-dark .jupyter-button {\n",
       "                    --jp-layout-color3: #383838;\n",
       "                }\n",
       "\n",
       "                .geemap-colab {\n",
       "                    background-color: var(--colab-primary-surface-color, white);\n",
       "                }\n",
       "\n",
       "                .geemap-colab .jupyter-button {\n",
       "                    --jp-layout-color3: var(--colab-primary-surface-color, white);\n",
       "                }\n",
       "            </style>\n",
       "            "
      ],
      "text/plain": [
       "<IPython.core.display.HTML object>"
      ]
     },
     "metadata": {},
     "output_type": "display_data"
    },
    {
     "data": {
      "application/vnd.jupyter.widget-view+json": {
       "model_id": "6c73844fa5984a9b883473c4a91db28a",
       "version_major": 2,
       "version_minor": 0
      },
      "text/plain": [
       "Map(bottom=14224.0, center=[26.07950850843424, 68.81799792913621], controls=(WidgetControl(options=['position'…"
      ]
     },
     "execution_count": 4,
     "metadata": {},
     "output_type": "execute_result"
    }
   ],
   "source": [
    "# --- Data Acquisition ---\n",
    "# Get Sentinel-1 imagery for the post-flood period\n",
    "s1_post_flood_collection = ee.ImageCollection(S1_COLLECTION)\\\n",
    "    .filterBounds(aoi)\\\n",
    "    .filterDate(flood_date_start, flood_date_end)\\\n",
    "    .filter(ee.Filter.listContains('transmitterReceiverPolarisation', POLARIZATION))\\\n",
    "    .filter(ee.Filter.eq('instrumentMode', 'IW'))\n",
    "\n",
    "# Create a mosaic of the post-flood images for complete coverage\n",
    "# .mean() averages the overlapping pixel values\n",
    "post_flood_image = s1_post_flood_collection.select(POLARIZATION).mean().clip(aoi)\n",
    "\n",
    "# --- Simple Thresholding ---\n",
    "# Define a backscatter threshold in decibels (dB). Values from -15 to -25 are common.\n",
    "# A lower value is more conservative (less likely to misclassify).\n",
    "WATER_THRESHOLD = -20\n",
    "\n",
    "# Identify pixels with backscatter values less than the threshold\n",
    "# .lt() means 'less than'. This creates a binary image (1 for water, 0 for land).\n",
    "simple_flood_mask = post_flood_image.lt(WATER_THRESHOLD)\n",
    "\n",
    "# --- Visualization ---\n",
    "# Define visualization parameters for the SAR image and the flood mask\n",
    "s1_vis_params = {'min': -25, 'max': 0, 'palette': ['black', 'white']}\n",
    "flood_vis_params = {'palette': ['blue']}\n",
    "\n",
    "Map.addLayer(post_flood_image, s1_vis_params, 'Post-Flood S1 Image (VV)')\n",
    "Map.addLayer(simple_flood_mask.selfMask(), flood_vis_params, 'Simple Flood Extent')\n",
    "\n",
    "Map"
   ]
  },
  {
   "cell_type": "markdown",
   "metadata": {},
   "source": [
    "## 4. Flood Mapping - Approach 2: Z-Score Time Series Analysis\n",
    "\n",
    "This method is statistically more robust. Instead of using a fixed threshold, it evaluates how much a pixel's backscatter during the flood deviates from its *own historical average*.\n",
    "\n",
    "**Z-Score = (Current Value - Historical Mean) / Historical Standard Deviation**\n",
    "\n",
    "A strongly negative Z-score indicates that the pixel's backscatter is significantly lower than normal, making it a high-confidence flood pixel. This method inherently adapts to local conditions, reducing false positives.\n",
    "\n",
    "### 4.1. Building the Historical Baseline"
   ]
  },
  {
   "cell_type": "code",
   "execution_count": 5,
   "metadata": {},
   "outputs": [
    {
     "data": {
      "text/html": [
       "\n",
       "            <style>\n",
       "                .geemap-dark {\n",
       "                    --jp-widgets-color: white;\n",
       "                    --jp-widgets-label-color: white;\n",
       "                    --jp-ui-font-color1: white;\n",
       "                    --jp-layout-color2: #454545;\n",
       "                    background-color: #383838;\n",
       "                }\n",
       "\n",
       "                .geemap-dark .jupyter-button {\n",
       "                    --jp-layout-color3: #383838;\n",
       "                }\n",
       "\n",
       "                .geemap-colab {\n",
       "                    background-color: var(--colab-primary-surface-color, white);\n",
       "                }\n",
       "\n",
       "                .geemap-colab .jupyter-button {\n",
       "                    --jp-layout-color3: var(--colab-primary-surface-color, white);\n",
       "                }\n",
       "            </style>\n",
       "            "
      ],
      "text/plain": [
       "<IPython.core.display.HTML object>"
      ]
     },
     "metadata": {},
     "output_type": "display_data"
    },
    {
     "name": "stdout",
     "output_type": "stream",
     "text": [
      "Historical baseline (mean and std dev) calculated.\n"
     ]
    }
   ],
   "source": [
    "# Get Sentinel-1 imagery for the pre-flood (baseline) period\n",
    "s1_baseline_collection = ee.ImageCollection(S1_COLLECTION)\\\n",
    "    .filterBounds(aoi)\\\n",
    "    .filterDate(baseline_date_start, baseline_date_end)\\\n",
    "    .filter(ee.Filter.listContains('transmitterReceiverPolarisation', POLARIZATION))\\\n",
    "    .filter(ee.Filter.eq('instrumentMode', 'IW'))\n",
    "\n",
    "# Calculate the mean and standard deviation for each pixel over the baseline period\n",
    "# These two images will represent the 'normal' backscatter conditions.\n",
    "baseline_mean = s1_baseline_collection.select(POLARIZATION).mean()\n",
    "baseline_stdDev = s1_baseline_collection.select(POLARIZATION).reduce(ee.Reducer.stdDev())\n",
    "\n",
    "print(\"Historical baseline (mean and std dev) calculated.\")"
   ]
  },
  {
   "cell_type": "markdown",
   "metadata": {},
   "source": [
    "### 4.2. Calculating the Z-Score\n",
    "\n",
    "Now we apply the Z-score formula using our historical baseline and the post-flood image."
   ]
  },
  {
   "cell_type": "code",
   "execution_count": 6,
   "metadata": {},
   "outputs": [
    {
     "data": {
      "text/html": [
       "\n",
       "            <style>\n",
       "                .geemap-dark {\n",
       "                    --jp-widgets-color: white;\n",
       "                    --jp-widgets-label-color: white;\n",
       "                    --jp-ui-font-color1: white;\n",
       "                    --jp-layout-color2: #454545;\n",
       "                    background-color: #383838;\n",
       "                }\n",
       "\n",
       "                .geemap-dark .jupyter-button {\n",
       "                    --jp-layout-color3: #383838;\n",
       "                }\n",
       "\n",
       "                .geemap-colab {\n",
       "                    background-color: var(--colab-primary-surface-color, white);\n",
       "                }\n",
       "\n",
       "                .geemap-colab .jupyter-button {\n",
       "                    --jp-layout-color3: var(--colab-primary-surface-color, white);\n",
       "                }\n",
       "            </style>\n",
       "            "
      ],
      "text/plain": [
       "<IPython.core.display.HTML object>"
      ]
     },
     "metadata": {},
     "output_type": "display_data"
    },
    {
     "name": "stdout",
     "output_type": "stream",
     "text": [
      "Z-score calculated and added to map.\n"
     ]
    }
   ],
   "source": [
    "# Calculate the Z-score for the post-flood image\n",
    "# z_score = (image - mean) / stdDev\n",
    "z_score_image = post_flood_image.subtract(baseline_mean).divide(baseline_stdDev)\n",
    "\n",
    "# Clip the result to the AOI\n",
    "z_score_image = z_score_image.clip(aoi)\n",
    "\n",
    "# --- Visualization ---\n",
    "z_score_vis_params = {\n",
    "    'min': -3, \n",
    "    'max': 3, \n",
    "    'palette': ['blue', 'white', 'red'] # Blue shows strong negative deviation (likely water)\n",
    "}\n",
    "\n",
    "Map.addLayer(z_score_image, z_score_vis_params, 'Z-Score Anomaly')\n",
    "print(\"Z-score calculated and added to map.\")"
   ]
  },
  {
   "cell_type": "markdown",
   "metadata": {},
   "source": [
    "### 4.3. Identifying Flooded Pixels from Z-Score\n",
    "\n",
    "We can now threshold the Z-score image to identify flooded areas. A Z-score below -1.5 is often a good indicator of a high-confidence flood pixel, as it means the backscatter is 1.5 standard deviations below its normal value."
   ]
  },
  {
   "cell_type": "code",
   "execution_count": 7,
   "metadata": {},
   "outputs": [
    {
     "data": {
      "text/html": [
       "\n",
       "            <style>\n",
       "                .geemap-dark {\n",
       "                    --jp-widgets-color: white;\n",
       "                    --jp-widgets-label-color: white;\n",
       "                    --jp-ui-font-color1: white;\n",
       "                    --jp-layout-color2: #454545;\n",
       "                    background-color: #383838;\n",
       "                }\n",
       "\n",
       "                .geemap-dark .jupyter-button {\n",
       "                    --jp-layout-color3: #383838;\n",
       "                }\n",
       "\n",
       "                .geemap-colab {\n",
       "                    background-color: var(--colab-primary-surface-color, white);\n",
       "                }\n",
       "\n",
       "                .geemap-colab .jupyter-button {\n",
       "                    --jp-layout-color3: var(--colab-primary-surface-color, white);\n",
       "                }\n",
       "            </style>\n",
       "            "
      ],
      "text/plain": [
       "<IPython.core.display.HTML object>"
      ]
     },
     "metadata": {},
     "output_type": "display_data"
    }
   ],
   "source": [
    "# Define a Z-score threshold for identifying flooded areas\n",
    "Z_SCORE_THRESHOLD = -1.5\n",
    "\n",
    "# Create a binary flood mask based on the Z-score\n",
    "zscore_flood_mask = z_score_image.lt(Z_SCORE_THRESHOLD)\n",
    "\n",
    "# --- Visualization ---\n",
    "zscore_flood_vis_params = {'palette': ['#0000FF']}\n",
    "\n",
    "Map.addLayer(zscore_flood_mask.selfMask(), zscore_flood_vis_params, 'Z-Score Flood Extent (High Confidence)')"
   ]
  },
  {
   "cell_type": "markdown",
   "metadata": {},
   "source": [
    "### 4.4. Refining the Flood Map with Ancillary Data\n",
    "\n",
    "A raw flood mask can still contain errors. We can significantly improve its accuracy by integrating three additional datasets:\n",
    "\n",
    "1.  **JRC Global Surface Water:** To mask out areas that are *always* water (permanent rivers, lakes). This ensures we are only mapping *new* floodwater.\n",
    "2.  **Digital Elevation Model (DEM):** To exclude high-elevation areas that are unlikely to be flooded.\n",
    "3.  **Slope:** To exclude steep areas where radar shadows can be misclassified as water."
   ]
  },
  {
   "cell_type": "code",
   "execution_count": 8,
   "metadata": {},
   "outputs": [
    {
     "data": {
      "text/html": [
       "\n",
       "            <style>\n",
       "                .geemap-dark {\n",
       "                    --jp-widgets-color: white;\n",
       "                    --jp-widgets-label-color: white;\n",
       "                    --jp-ui-font-color1: white;\n",
       "                    --jp-layout-color2: #454545;\n",
       "                    background-color: #383838;\n",
       "                }\n",
       "\n",
       "                .geemap-dark .jupyter-button {\n",
       "                    --jp-layout-color3: #383838;\n",
       "                }\n",
       "\n",
       "                .geemap-colab {\n",
       "                    background-color: var(--colab-primary-surface-color, white);\n",
       "                }\n",
       "\n",
       "                .geemap-colab .jupyter-button {\n",
       "                    --jp-layout-color3: var(--colab-primary-surface-color, white);\n",
       "                }\n",
       "            </style>\n",
       "            "
      ],
      "text/plain": [
       "<IPython.core.display.HTML object>"
      ]
     },
     "metadata": {},
     "output_type": "display_data"
    },
    {
     "name": "stdout",
     "output_type": "stream",
     "text": [
      "Ancillary data loaded and flood map refined.\n"
     ]
    }
   ],
   "source": [
    "# 1. JRC Global Surface Water dataset for permanent water\n",
    "jrc_gsw = ee.Image('JRC/GSW1_4/GlobalSurfaceWater').select('occurrence')\n",
    "PERMANENT_WATER_THRESHOLD = 90 # Pixels with water occurrence > 90% are considered permanent\n",
    "permanent_water_mask = jrc_gsw.gte(PERMANENT_WATER_THRESHOLD)\n",
    "\n",
    "# 2. Elevation Data (FABDEM)\n",
    "dem = ee.ImageCollection(\"projects/sat-io/open-datasets/FABDEM\").mosaic().clip(aoi)\n",
    "ELEVATION_THRESHOLD = 250 # Exclude areas above 250 meters (adjust as needed for the region)\n",
    "high_elevation_mask = dem.gt(ELEVATION_THRESHOLD)\n",
    "\n",
    "# 3. Slope Data\n",
    "slope = ee.Terrain.slope(dem)\n",
    "SLOPE_THRESHOLD = 5 # Exclude areas with a slope greater than 5 degrees\n",
    "steep_slope_mask = slope.gt(SLOPE_THRESHOLD)\n",
    "\n",
    "# --- Combine masks to refine the flood map ---\n",
    "# Start with the Z-score flood mask\n",
    "refined_flood_mask = zscore_flood_mask\n",
    "\n",
    "# Remove permanent water pixels (.where(condition, value_if_true))\n",
    "# If permanent_water_mask is 1 (true), set the pixel in our map to 0 (not flooded)\n",
    "refined_flood_mask = refined_flood_mask.where(permanent_water_mask, 0)\n",
    "\n",
    "# Remove high-elevation pixels\n",
    "refined_flood_mask = refined_flood_mask.where(high_elevation_mask, 0)\n",
    "\n",
    "# Remove steep-slope pixels\n",
    "refined_flood_mask = refined_flood_mask.where(steep_slope_mask, 0)\n",
    "\n",
    "# --- Visualization of the Final Map ---\n",
    "final_flood_vis_params = {'palette': ['#0000FF']} # Dark blue for final flood extent\n",
    "\n",
    "Map.addLayer(refined_flood_mask.selfMask(), final_flood_vis_params, 'Final, Refined Flood Extent')\n",
    "\n",
    "print(\"Ancillary data loaded and flood map refined.\")"
   ]
  },
  {
   "cell_type": "markdown",
   "metadata": {},
   "source": [
    "## 5. Comparison and Conclusion\n",
    "\n",
    "Now, use the Layer Manager in the top-right of the map to compare the different outputs:\n",
    "\n",
    "1.  **Post-Flood S1 Image:** The raw radar data.\n",
    "2.  **Simple Flood Extent:** The result from the basic thresholding method. Notice it may classify large areas incorrectly.\n",
    "3.  **Z-Score Anomaly:** Shows the statistical deviation. Blue areas are where backscatter dropped significantly.\n",
    "4.  **Z-Score Flood Extent:** The unrefined flood map from the Z-score threshold.\n",
    "5.  **Final, Refined Flood Extent:** The most accurate map, cleaned of permanent water bodies and terrain-related errors.\n",
    "\n",
    "**Key Takeaways:**\n",
    "*   Simple thresholding is fast but less accurate.\n",
    "*   Z-score analysis is more robust because it adapts to local conditions.\n",
    "*   Integrating ancillary data like JRC water, DEM, and slope is crucial for creating a high-quality, reliable flood inundation map."
   ]
  },
  {
   "cell_type": "markdown",
   "metadata": {},
   "source": [
    "### Calculating Flooded Area (Optional)\n",
    "\n",
    "We can use GEE to calculate the total flooded area in square kilometers."
   ]
  },
  {
   "cell_type": "code",
   "execution_count": null,
   "metadata": {},
   "outputs": [
    {
     "data": {
      "text/html": [
       "\n",
       "            <style>\n",
       "                .geemap-dark {\n",
       "                    --jp-widgets-color: white;\n",
       "                    --jp-widgets-label-color: white;\n",
       "                    --jp-ui-font-color1: white;\n",
       "                    --jp-layout-color2: #454545;\n",
       "                    background-color: #383838;\n",
       "                }\n",
       "\n",
       "                .geemap-dark .jupyter-button {\n",
       "                    --jp-layout-color3: #383838;\n",
       "                }\n",
       "\n",
       "                .geemap-colab {\n",
       "                    background-color: var(--colab-primary-surface-color, white);\n",
       "                }\n",
       "\n",
       "                .geemap-colab .jupyter-button {\n",
       "                    --jp-layout-color3: var(--colab-primary-surface-color, white);\n",
       "                }\n",
       "            </style>\n",
       "            "
      ],
      "text/plain": [
       "<IPython.core.display.HTML object>"
      ]
     },
     "metadata": {},
     "output_type": "display_data"
    },
    {
     "name": "stdout",
     "output_type": "stream",
     "text": [
      "Total Refined Flooded Area in Sindh Province: 16,343.06 sq km\n"
     ]
    }
   ],
   "source": [
    "# Get the pixel area image\n",
    "pixel_area = ee.Image.pixelArea() # Area in square meters\n",
    "\n",
    "# Multiply the flood mask by the pixel area to get the area of each flooded pixel\n",
    "flooded_area_image = refined_flood_mask.multiply(pixel_area)\n",
    "\n",
    "# Sum the areas of all flooded pixels in the AOI\n",
    "total_flooded_area_stats = flooded_area_image.reduceRegion(\n",
    "    reducer=ee.Reducer.sum(),\n",
    "    geometry=aoi,\n",
    "    scale=30, # Use a scale appropriate for the analysis (e.g., 30m)\n",
    "    maxPixels=1e12\n",
    ")\n",
    "\n",
    "# Get the result and convert from square meters to square kilometers\n",
    "total_flooded_area_sq_m = total_flooded_area_stats.get(POLARIZATION).getInfo()\n",
    "if total_flooded_area_sq_m:\n",
    "    total_flooded_area_sq_km = total_flooded_area_sq_m / 1_000_000\n",
    "    print(f\"Total Refined Flooded Area in Sindh Province: {total_flooded_area_sq_km:,.2f} sq km\")"
   ]
  }
 ],
 "metadata": {
  "kernelspec": {
   "display_name": "geo",
   "language": "python",
   "name": "python3"
  },
  "language_info": {
   "codemirror_mode": {
    "name": "ipython",
    "version": 3
   },
   "file_extension": ".py",
   "mimetype": "text/x-python",
   "name": "python",
   "nbconvert_exporter": "python",
   "pygments_lexer": "ipython3",
   "version": "3.13.2"
  }
 },
 "nbformat": 4,
 "nbformat_minor": 4
}
